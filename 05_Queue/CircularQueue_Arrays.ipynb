{
 "cells": [
  {
   "attachments": {},
   "cell_type": "markdown",
   "metadata": {},
   "source": [
    "# Circular Queue using Arrays"
   ]
  },
  {
   "cell_type": "code",
   "execution_count": 1,
   "metadata": {},
   "outputs": [],
   "source": [
    "class CircularQueue:\n",
    "    def __init__(self, size):\n",
    "        self.size = size\n",
    "        self.queue = [None] * size\n",
    "        self.front = self.rear = -1\n",
    "\n",
    "    def __len__(self):\n",
    "        return len(self.queue)\n",
    "\n",
    "    def __str__(self):\n",
    "        out = ''\n",
    "        if self.front == -1:\n",
    "            return \"Queue is Empty\"\n",
    "        elif self.rear >= self.front:\n",
    "            for i in range(self.front, self.rear + 1):\n",
    "                out += str(self.queue[i]) + '->'\n",
    "        else:\n",
    "            for i in range(self.front, self.size):\n",
    "                out += str(self.queue[i]) + '->'\n",
    "            for i in range(0, self.rear + 1):\n",
    "                out += str(self.queue[i]) + '->'\n",
    "        return out[:-2]\n",
    "\n",
    "    def enqueue(self, data):\n",
    "        # condition if queue is full\n",
    "        if (self.rear + 1) % self.size == self.front:\n",
    "            print(\"Queue is Full\")\n",
    "        # condition for empty queue\n",
    "        elif self.front == -1:\n",
    "            self.front = 0\n",
    "            self.rear = 0\n",
    "            self.queue[self.rear] = data\n",
    "        else:\n",
    "            # next position of rear\n",
    "            self.rear = (self.rear + 1) % self.size\n",
    "            self.queue[self.rear] = data\n",
    "\n",
    "    def dequeue(self):\n",
    "        if self.front == -1:  # condition for empty queue\n",
    "            print(\"Queue is Empty\")\n",
    "        # condition for only one element\n",
    "        elif self.front == self.rear:\n",
    "            temp = self.queue[self.front]\n",
    "            self.front = -1\n",
    "            self.rear = -1\n",
    "            return temp\n",
    "        else:\n",
    "            temp = self.queue[self.front]\n",
    "            self.front = (self.front + 1) % self.size\n",
    "            return temp"
   ]
  },
  {
   "cell_type": "code",
   "execution_count": 2,
   "metadata": {},
   "outputs": [
    {
     "name": "stdout",
     "output_type": "stream",
     "text": [
      "Elements in the circular queue are:1->2->3->-4->5\n",
      "Elements in the circular queue are:3->-4->5\n",
      "Queue is Full\n",
      "Elements in the circular queue are:3->-4->5->7->8\n"
     ]
    }
   ],
   "source": [
    "ob = CircularQueue(5)\n",
    "ob.enqueue(1)\n",
    "ob.enqueue(2)\n",
    "ob.enqueue(3)\n",
    "ob.enqueue(-4)\n",
    "ob.enqueue(5)\n",
    "print(\"Elements in the circular queue are:\" + str(ob))\n",
    "ob.dequeue()\n",
    "ob.dequeue()\n",
    "print(\"Elements in the circular queue are:\" + str(ob))\n",
    "ob.enqueue(7)\n",
    "ob.enqueue(8)\n",
    "ob.enqueue(9)\n",
    "print(\"Elements in the circular queue are:\" + str(ob))"
   ]
  }
 ],
 "metadata": {
  "kernelspec": {
   "display_name": "Python 3",
   "language": "python",
   "name": "python3"
  },
  "language_info": {
   "codemirror_mode": {
    "name": "ipython",
    "version": 3
   },
   "file_extension": ".py",
   "mimetype": "text/x-python",
   "name": "python",
   "nbconvert_exporter": "python",
   "pygments_lexer": "ipython3",
   "version": "3.8.0"
  },
  "orig_nbformat": 4
 },
 "nbformat": 4,
 "nbformat_minor": 2
}
