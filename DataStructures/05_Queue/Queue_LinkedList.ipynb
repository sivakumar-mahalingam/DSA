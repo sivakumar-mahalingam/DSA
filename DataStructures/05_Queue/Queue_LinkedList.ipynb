{
 "cells": [
  {
   "attachments": {},
   "cell_type": "markdown",
   "metadata": {},
   "source": [
    "# QUEUE USING LINKED LIST"
   ]
  },
  {
   "cell_type": "code",
   "execution_count": 1,
   "metadata": {},
   "outputs": [],
   "source": [
    "class Node:\n",
    "    def __init__(self, data):\n",
    "        self.data = data\n",
    "        self.next = None\n",
    "\n",
    "\n",
    "class Queue:\n",
    "    def __init__(self):\n",
    "        self.front = None\n",
    "        self.rear = None\n",
    "\n",
    "    def __str__(self):\n",
    "        temp = self.front\n",
    "        out = ''\n",
    "        while temp:\n",
    "            out += str(temp.data) + '->'\n",
    "            temp = temp.next\n",
    "        return out[:-2]\n",
    "\n",
    "    def __len__(self):\n",
    "        count = 0\n",
    "        node = self.front\n",
    "        while node:\n",
    "            node = node.next\n",
    "            count += 1\n",
    "\n",
    "        return count\n",
    "\n",
    "    def isEmpty(self):\n",
    "        return self.front is None\n",
    "\n",
    "    def EnQueue(self, data):\n",
    "        new_node = Node(data)\n",
    "\n",
    "        if self.rear is None:\n",
    "            self.front = self.rear = new_node\n",
    "            return\n",
    "        self.rear.next = new_node\n",
    "        self.rear = new_node\n",
    "\n",
    "    def DeQueue(self):\n",
    "        if self.isEmpty():\n",
    "            return\n",
    "        temp = self.front\n",
    "        self.front = self.front.next\n",
    "\n",
    "        if self.front is None:\n",
    "            self.rear = None\n",
    "        \n",
    "        return temp.data"
   ]
  },
  {
   "cell_type": "code",
   "execution_count": 2,
   "metadata": {},
   "outputs": [
    {
     "name": "stdout",
     "output_type": "stream",
     "text": [
      "1->2->3\n",
      "2->3\n"
     ]
    }
   ],
   "source": [
    "queue = Queue()\n",
    "\n",
    "queue.EnQueue(1)\n",
    "queue.EnQueue(2)\n",
    "queue.EnQueue(3)\n",
    "\n",
    "print(str(queue))\n",
    "\n",
    "queue.DeQueue()\n",
    "\n",
    "print(str(queue))\n"
   ]
  }
 ],
 "metadata": {
  "kernelspec": {
   "display_name": "Python 3",
   "language": "python",
   "name": "python3"
  },
  "language_info": {
   "codemirror_mode": {
    "name": "ipython",
    "version": 3
   },
   "file_extension": ".py",
   "mimetype": "text/x-python",
   "name": "python",
   "nbconvert_exporter": "python",
   "pygments_lexer": "ipython3",
   "version": "3.8.0"
  },
  "orig_nbformat": 4
 },
 "nbformat": 4,
 "nbformat_minor": 2
}
