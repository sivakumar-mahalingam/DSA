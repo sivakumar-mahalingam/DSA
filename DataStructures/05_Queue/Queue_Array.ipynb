{
 "cells": [
  {
   "attachments": {},
   "cell_type": "markdown",
   "metadata": {},
   "source": [
    "# QUEUE USING ARRAY"
   ]
  },
  {
   "cell_type": "code",
   "execution_count": 1,
   "metadata": {},
   "outputs": [],
   "source": [
    "# Queue using array\n",
    "class Queue:\n",
    "    def __init__(self):\n",
    "        self.queue = []\n",
    "        \n",
    "    def __len__(self):\n",
    "        return len(self.queue)\n",
    "      \n",
    "    def __str__(self):\n",
    "        out = ''\n",
    "        if self.isEmpty():\n",
    "            out = \"queue is empty\"\n",
    "            return out\n",
    "        for i in self.queue:\n",
    "            out += i + '->'\n",
    "        return out[:-2]\n",
    "\n",
    "    def isEmpty(self):\n",
    "        return len(self.queue) == 0\n",
    "\n",
    "    def enqueue(self, data):\n",
    "        self.queue.append(data)\n",
    "        print(\"enqueued data: \" + data)\n",
    "\n",
    "    def dequeue(self):\n",
    "        if self.isEmpty():\n",
    "            print(\"queue is empty\")\n",
    "            return\n",
    "        data = self.queue.pop(0)\n",
    "        print(\"dequeued data: \" + data)\n",
    "\n",
    "    def front(self):\n",
    "        if self.isEmpty():\n",
    "            print(\"queue is empty\")\n",
    "            return\n",
    "        print(\"front data: \" + self.queue[0])\n",
    "\n",
    "    def rear(self):\n",
    "        if self.isEmpty():\n",
    "            print(\"queue is empty\")\n",
    "            return\n",
    "        print(\"rear data: \" + self.queue[-1])"
   ]
  },
  {
   "cell_type": "code",
   "execution_count": 2,
   "metadata": {},
   "outputs": [
    {
     "name": "stdout",
     "output_type": "stream",
     "text": [
      "enqueued data: a\n",
      "enqueued data: b\n",
      "enqueued data: c\n",
      "Initial queue\n",
      "a->b->c\n",
      "\n",
      "Elements dequeued from queue\n",
      "dequeued data: a\n",
      "front data: b\n",
      "rear data: c\n",
      "\n",
      "Queue after removing elements\n",
      "b->c\n"
     ]
    }
   ],
   "source": [
    "queue = Queue()\n",
    "\n",
    "queue.enqueue('a')\n",
    "queue.enqueue('b')\n",
    "queue.enqueue('c')\n",
    "\n",
    "print(\"Initial queue\")\n",
    "print(str(queue))\n",
    "\n",
    "print(\"\\nElements dequeued from queue\")\n",
    "queue.dequeue()\n",
    "\n",
    "queue.front()\n",
    "\n",
    "queue.rear()\n",
    "\n",
    "print(\"\\nQueue after removing elements\")\n",
    "print(str(queue))"
   ]
  }
 ],
 "metadata": {
  "kernelspec": {
   "display_name": "Python 3",
   "language": "python",
   "name": "python3"
  },
  "language_info": {
   "codemirror_mode": {
    "name": "ipython",
    "version": 3
   },
   "file_extension": ".py",
   "mimetype": "text/x-python",
   "name": "python",
   "nbconvert_exporter": "python",
   "pygments_lexer": "ipython3",
   "version": "3.8.0"
  },
  "orig_nbformat": 4
 },
 "nbformat": 4,
 "nbformat_minor": 2
}
