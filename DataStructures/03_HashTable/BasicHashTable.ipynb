{
 "cells": [
  {
   "cell_type": "markdown",
   "metadata": {},
   "source": [
    "# HASH TABLE"
   ]
  },
  {
   "cell_type": "code",
   "execution_count": 2,
   "metadata": {},
   "outputs": [],
   "source": [
    "class HashTable:\n",
    "    def __init__(self, size=100):\n",
    "        self.table = [None] * size\n",
    "\n",
    "    def __setitem__(self, key, value):\n",
    "        index = hash(key) % len(self.table)\n",
    "        self.table[index] = value\n",
    "\n",
    "    def __getitem__(self, key):\n",
    "        index = hash(key) % len(self.table)\n",
    "        return self.table[index]\n",
    "\n",
    "    def remove(self, key):\n",
    "        index = hash(key) % len(self.table)\n",
    "        self.table[index] = None"
   ]
  },
  {
   "cell_type": "code",
   "execution_count": 3,
   "metadata": {},
   "outputs": [
    {
     "name": "stdout",
     "output_type": "stream",
     "text": [
      "Bard\n"
     ]
    }
   ],
   "source": [
    "hash_table = HashTable()\n",
    "\n",
    "# __setitem__\n",
    "hash_table[\"name\"] = \"Bard\"\n",
    "\n",
    "# __getitem__\n",
    "name = hash_table[\"name\"]\n",
    "print(name)"
   ]
  },
  {
   "cell_type": "code",
   "execution_count": 4,
   "metadata": {},
   "outputs": [],
   "source": [
    "# remove\n",
    "hash_table.remove(name)"
   ]
  }
 ],
 "metadata": {
  "kernelspec": {
   "display_name": "Python 3",
   "language": "python",
   "name": "python3"
  },
  "language_info": {
   "codemirror_mode": {
    "name": "ipython",
    "version": 3
   },
   "file_extension": ".py",
   "mimetype": "text/x-python",
   "name": "python",
   "nbconvert_exporter": "python",
   "pygments_lexer": "ipython3",
   "version": "3.8.0"
  }
 },
 "nbformat": 4,
 "nbformat_minor": 2
}
