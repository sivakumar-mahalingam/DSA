{
 "cells": [
  {
   "attachments": {},
   "cell_type": "markdown",
   "id": "a85fc505",
   "metadata": {},
   "source": [
    "# ARRAY"
   ]
  },
  {
   "attachments": {},
   "cell_type": "markdown",
   "id": "2e63b343",
   "metadata": {},
   "source": [
    "#### Traverse Array"
   ]
  },
  {
   "cell_type": "code",
   "execution_count": 1,
   "id": "e91264f7",
   "metadata": {},
   "outputs": [
    {
     "name": "stdout",
     "output_type": "stream",
     "text": [
      "================\n",
      "Travese 1:\n",
      "1\n",
      "3\n",
      "5\n",
      "7\n",
      "9\n",
      "================\n",
      "Travese 2:\n",
      "1\n",
      "3\n",
      "5\n",
      "7\n",
      "9\n"
     ]
    }
   ],
   "source": [
    "arr = [1, 3, 5, 7, 9]\n",
    "\n",
    "print(\"================\")\n",
    "print(\"Travese 1:\")\n",
    "for i in arr:\n",
    "    print(i)\n",
    "    \n",
    "print(\"================\")\n",
    "print(\"Travese 2:\")\n",
    "for i in range(len(arr)):\n",
    "    print(arr[i])"
   ]
  },
  {
   "attachments": {},
   "cell_type": "markdown",
   "id": "6409164b",
   "metadata": {},
   "source": [
    "#### Search Array - Linear\n",
    " Time Complexity: O(n)\n",
    "\n",
    " Auxiliary Space: O(1)"
   ]
  },
  {
   "cell_type": "code",
   "execution_count": 2,
   "id": "61488ca3",
   "metadata": {},
   "outputs": [
    {
     "name": "stdout",
     "output_type": "stream",
     "text": [
      "Found\n",
      "[1, 3, 5, 7, 9]\n"
     ]
    }
   ],
   "source": [
    "def linear_search(arr, n):\n",
    "    i = 0\n",
    "    while i < len(arr):\n",
    "        if arr[i] == n:\n",
    "            return \"Found\"\n",
    "        i = i + 1\n",
    "    \n",
    "    return \"Not Found\"\n",
    "  \n",
    "\n",
    "n = 9\n",
    "print(linear_search(arr, n))\n",
    "print(arr)"
   ]
  },
  {
   "attachments": {},
   "cell_type": "markdown",
   "id": "043ca9ec",
   "metadata": {},
   "source": [
    "#### Two Sum - Two Pointer Approach\n",
    " Time Complexity: O(n log n) (As sort function is used)\n",
    "\n",
    " Auxiliary Space: O(1)"
   ]
  },
  {
   "cell_type": "code",
   "execution_count": 3,
   "id": "eb3deb20",
   "metadata": {},
   "outputs": [
    {
     "name": "stdout",
     "output_type": "stream",
     "text": [
      "True\n"
     ]
    }
   ],
   "source": [
    "def two_sum(arr, target):\n",
    "    pointer_one = 0\n",
    "    pointer_two = len(arr) - 1\n",
    "\n",
    "    while pointer_one < pointer_two:\n",
    "        sum = arr[pointer_one] + arr[pointer_two]\n",
    "\n",
    "        if sum == target:\n",
    "            return True\n",
    "        elif sum < target:\n",
    "            pointer_one += 1\n",
    "        else:\n",
    "            pointer_two -= 1\n",
    "\n",
    "    return False\n",
    "\n",
    "print(two_sum([1, 3, 4, 8, 9], 11))"
   ]
  }
 ],
 "metadata": {
  "kernelspec": {
   "display_name": "Python 3 (ipykernel)",
   "language": "python",
   "name": "python3"
  },
  "language_info": {
   "codemirror_mode": {
    "name": "ipython",
    "version": 3
   },
   "file_extension": ".py",
   "mimetype": "text/x-python",
   "name": "python",
   "nbconvert_exporter": "python",
   "pygments_lexer": "ipython3",
   "version": "3.8.0"
  }
 },
 "nbformat": 4,
 "nbformat_minor": 5
}
