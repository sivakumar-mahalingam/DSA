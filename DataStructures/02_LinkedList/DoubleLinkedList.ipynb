{
 "cells": [
  {
   "attachments": {},
   "cell_type": "markdown",
   "metadata": {},
   "source": [
    "# Double Linked List"
   ]
  },
  {
   "cell_type": "code",
   "execution_count": 1,
   "metadata": {},
   "outputs": [],
   "source": [
    "class Node:\n",
    "    def __init__(self, data):\n",
    "        self.data = data\n",
    "        self.prev = None\n",
    "        self.next = None\n",
    "\n",
    "\n",
    "class DoublyLinkedList:\n",
    "    def __init__(self):\n",
    "        self.head = None\n",
    "\n",
    "    def __len__(self):\n",
    "        count = 0\n",
    "        temp_node = self.head\n",
    "        while temp_node:\n",
    "            temp_node = temp_node.next\n",
    "            count += 1\n",
    "\n",
    "        return count\n",
    "\n",
    "    def __str__(self):\n",
    "        temp_node = self.head\n",
    "        out = ''\n",
    "\n",
    "        if temp_node is None:\n",
    "            out = \"List is empty\"\n",
    "            return out\n",
    "\n",
    "        while temp_node:\n",
    "            out += str(temp_node.data) + '->'\n",
    "            temp_node = temp_node.next\n",
    "        return out[:-2]\n",
    "\n",
    "    def addNodeAtHead(self, data):\n",
    "        new_node = Node(data)\n",
    "        if self.head is None:\n",
    "            self.head = new_node\n",
    "        else:\n",
    "            new_node.next = self.head\n",
    "            self.head.prev = new_node\n",
    "            self.head = new_node\n",
    "\n",
    "    def addNodeAtLast(self, data):\n",
    "        new_node = Node(data)\n",
    "        if self.head is None:\n",
    "            self.head = new_node\n",
    "        else:\n",
    "            current = self.head\n",
    "            while current.next:\n",
    "                current = current.next\n",
    "            current.next = new_node\n",
    "            new_node.prev = current\n",
    "\n",
    "    def deleteNode(self, data):\n",
    "        if self.head is None:\n",
    "            print(\"List is empty.\")\n",
    "            return\n",
    "\n",
    "        if self.head.data == data:\n",
    "            self.head = self.head.next\n",
    "            if self.head:\n",
    "                self.head.prev = None\n",
    "            return\n",
    "\n",
    "        temp_node = self.head\n",
    "        while temp_node:\n",
    "            if temp_node.data == data:\n",
    "                if temp_node.next:\n",
    "                    temp_node.next.prev = temp_node.prev\n",
    "                if temp_node.prev:\n",
    "                    temp_node.prev.next = temp_node.next\n",
    "                return\n",
    "            temp_node = temp_node.next\n",
    "\n",
    "        print(\"Node not found in the list.\")"
   ]
  },
  {
   "cell_type": "code",
   "execution_count": 2,
   "metadata": {},
   "outputs": [
    {
     "name": "stdout",
     "output_type": "stream",
     "text": [
      "DLL: 10->20->30\n",
      "DLL: 5->10->20->30\n",
      "Length of DLL: 4\n",
      "DLL: 5->10->30\n",
      "Length of DLL: 3\n",
      "DLL: List is empty\n"
     ]
    }
   ],
   "source": [
    "dll = DoublyLinkedList()\n",
    "dll.addNodeAtLast(10)\n",
    "dll.addNodeAtLast(20)\n",
    "dll.addNodeAtLast(30)\n",
    "print(\"DLL: \" + str(dll))\n",
    "\n",
    "dll.addNodeAtHead(5)\n",
    "print(\"DLL: \" + str(dll))\n",
    "print(\"Length of DLL: \" + str(len(dll)))\n",
    "\n",
    "dll.deleteNode(20)\n",
    "print(\"DLL: \" + str(dll))\n",
    "print(\"Length of DLL: \" + str(len(dll)))\n",
    "\n",
    "dll.deleteNode(5)\n",
    "dll.deleteNode(30)\n",
    "dll.deleteNode(10)\n",
    "print(\"DLL: \" + str(dll))"
   ]
  }
 ],
 "metadata": {
  "kernelspec": {
   "display_name": "Python 3",
   "language": "python",
   "name": "python3"
  },
  "language_info": {
   "codemirror_mode": {
    "name": "ipython",
    "version": 3
   },
   "file_extension": ".py",
   "mimetype": "text/x-python",
   "name": "python",
   "nbconvert_exporter": "python",
   "pygments_lexer": "ipython3",
   "version": "3.8.0"
  },
  "orig_nbformat": 4
 },
 "nbformat": 4,
 "nbformat_minor": 2
}
