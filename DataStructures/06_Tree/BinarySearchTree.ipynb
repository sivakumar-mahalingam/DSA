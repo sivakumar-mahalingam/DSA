{
 "cells": [
  {
   "cell_type": "markdown",
   "metadata": {},
   "source": [
    "# BINARY SEARCH TREE"
   ]
  },
  {
   "cell_type": "code",
   "execution_count": 1,
   "metadata": {},
   "outputs": [],
   "source": [
    "class Node:\n",
    "    def __init__(self, data):\n",
    "        self.data = data\n",
    "        self.left = None\n",
    "        self.right = None\n",
    "\n",
    "\n",
    "class BinarySearchTree:\n",
    "    def __init__(self):\n",
    "        self.root = None\n",
    "\n",
    "    def insertNode(self, data):\n",
    "        new_node = Node(data)\n",
    "        if self.root is None:\n",
    "            self.root = new_node\n",
    "        else:\n",
    "            current_node = self.root\n",
    "            while True:\n",
    "                if data < current_node.data:\n",
    "                    if current_node.left is None:\n",
    "                        current_node.left = new_node\n",
    "                        break\n",
    "                    else:\n",
    "                        current_node = current_node.left\n",
    "                else:\n",
    "                    if current_node.right is None:\n",
    "                        current_node.right = new_node\n",
    "                        break\n",
    "                    else:\n",
    "                        current_node = current_node.right\n",
    "\n",
    "    def searchNode(self, data):\n",
    "        current_node = self.root\n",
    "        while current_node is not None:\n",
    "            if data == current_node.data:\n",
    "                return current_node\n",
    "            elif data < current_node.data:\n",
    "                current_node = current_node.left\n",
    "            else:\n",
    "                current_node = current_node.right\n",
    "        return None\n",
    "\n",
    "    def inOrderTraversal(self, root):\n",
    "        if root is None:\n",
    "            return\n",
    "        self.inOrderTraversal(root.left)\n",
    "        print(root.data)\n",
    "        self.inOrderTraversal(root.right)\n",
    "\n",
    "    def preOrderTraversal(self, root):\n",
    "        if root is None:\n",
    "            return\n",
    "        print(root.data)\n",
    "        self.preOrderTraversal(root.left)\n",
    "        self.preOrderTraversal(root.right)\n",
    "\n",
    "    def postOrderTraversal(self, root):\n",
    "        if root is None:\n",
    "            return\n",
    "        self.postOrderTraversal(root.left)\n",
    "        self.postOrderTraversal(root.right)\n",
    "        print(root.data)\n"
   ]
  },
  {
   "cell_type": "code",
   "execution_count": 3,
   "metadata": {},
   "outputs": [
    {
     "name": "stdout",
     "output_type": "stream",
     "text": [
      "Node found: 15\n"
     ]
    }
   ],
   "source": [
    "bst = BinarySearchTree()\n",
    "bst.insertNode(10)\n",
    "bst.insertNode(5)\n",
    "bst.insertNode(15)\n",
    "bst.insertNode(3)\n",
    "bst.insertNode(7)\n",
    "bst.insertNode(17)\n",
    "\n",
    "# Search for a node in the tree\n",
    "node = bst.searchNode(15)\n",
    "if node is not None:\n",
    "    print(\"Node found: \" + str(node.data))\n",
    "else:\n",
    "    print(\"Node not found\")"
   ]
  },
  {
   "cell_type": "code",
   "execution_count": 4,
   "metadata": {},
   "outputs": [
    {
     "name": "stdout",
     "output_type": "stream",
     "text": [
      "Traverse the tree in-order\n",
      "3\n",
      "5\n",
      "7\n",
      "10\n",
      "15\n",
      "17\n"
     ]
    }
   ],
   "source": [
    "print(\"Traverse the tree in-order\")\n",
    "bst.inOrderTraversal(bst.root)"
   ]
  },
  {
   "cell_type": "code",
   "execution_count": 5,
   "metadata": {},
   "outputs": [
    {
     "name": "stdout",
     "output_type": "stream",
     "text": [
      "Traverse the tree pre-order\n",
      "10\n",
      "5\n",
      "3\n",
      "7\n",
      "15\n",
      "17\n"
     ]
    }
   ],
   "source": [
    "print(\"Traverse the tree pre-order\")\n",
    "bst.preOrderTraversal(bst.root)"
   ]
  },
  {
   "cell_type": "code",
   "execution_count": 6,
   "metadata": {},
   "outputs": [
    {
     "name": "stdout",
     "output_type": "stream",
     "text": [
      "Traverse the tree post-order\n",
      "3\n",
      "7\n",
      "5\n",
      "17\n",
      "15\n",
      "10\n"
     ]
    }
   ],
   "source": [
    "print(\"Traverse the tree post-order\")\n",
    "bst.postOrderTraversal(bst.root)"
   ]
  }
 ],
 "metadata": {
  "kernelspec": {
   "display_name": "Python 3",
   "language": "python",
   "name": "python3"
  },
  "language_info": {
   "codemirror_mode": {
    "name": "ipython",
    "version": 3
   },
   "file_extension": ".py",
   "mimetype": "text/x-python",
   "name": "python",
   "nbconvert_exporter": "python",
   "pygments_lexer": "ipython3",
   "version": "3.8.0"
  }
 },
 "nbformat": 4,
 "nbformat_minor": 2
}
