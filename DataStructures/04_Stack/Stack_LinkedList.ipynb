{
 "cells": [
  {
   "attachments": {},
   "cell_type": "markdown",
   "metadata": {},
   "source": [
    "# Stack using linked list"
   ]
  },
  {
   "cell_type": "code",
   "execution_count": 1,
   "metadata": {},
   "outputs": [],
   "source": [
    "class Node:\n",
    "    def __init__(self, data):\n",
    "        self.data = data\n",
    "        self.next = None\n",
    "\n",
    "class Stack:\n",
    "    def __init__(self):\n",
    "        self.head = None\n",
    "        \n",
    "    def __str__(self):\n",
    "        temp = self.head\n",
    "        out = ''\n",
    "        while temp:\n",
    "            out += str(temp.data) + '->'\n",
    "            temp = temp.next\n",
    "        return out[:-2]\n",
    "        \n",
    "    def __len__(self):\n",
    "        count = 0\n",
    "        node = self.head\n",
    "        while node:\n",
    "            node = node.next\n",
    "            count += 1\n",
    "\n",
    "        return count\n",
    "\n",
    "    def isEmpty(self):\n",
    "        if self.head is None:\n",
    "            return True\n",
    "        else:\n",
    "            return False\n",
    "\n",
    "    def push(self, data):\n",
    "        new_node = Node(data)\n",
    "        new_node.next = self.head\n",
    "        self.head = new_node\n",
    "        print(\"pushed data: \" + str(data))\n",
    "\n",
    "    def pop(self):\n",
    "        if self.isEmpty():\n",
    "            print(\"stack is empty\")\n",
    "            return None\n",
    "\n",
    "        popped_node = self.head\n",
    "        self.head = self.head.next\n",
    "        popped_node.next = None\n",
    "        print(\"popped data: \" + str(popped_node.data))\n",
    "        return popped_node.data\n",
    "\n",
    "    def peek(self):\n",
    "        if self.isEmpty():\n",
    "            print(\"stack is empty\")\n",
    "            return None\n",
    "        print(\"top element: \" + str(self.head.data))"
   ]
  },
  {
   "cell_type": "code",
   "execution_count": 2,
   "metadata": {},
   "outputs": [
    {
     "name": "stdout",
     "output_type": "stream",
     "text": [
      "pushed data: 11\n",
      "pushed data: 22\n",
      "pushed data: 33\n",
      "pushed data: 44\n",
      "Stack:44->33->22->11\n",
      "popped data: 44\n",
      "Stack:33->22->11\n",
      "top element: 33\n",
      "Size of stack: 3\n"
     ]
    }
   ],
   "source": [
    "stack = Stack()\n",
    "\n",
    "stack.push(11)\n",
    "stack.push(22)\n",
    "stack.push(33)\n",
    "stack.push(44)\n",
    "print(\"Stack:\" + str(stack))\n",
    "stack.pop()\n",
    "print(\"Stack:\" + str(stack))\n",
    "stack.peek()\n",
    "print(\"Size of stack: \" + str(len(stack)))"
   ]
  }
 ],
 "metadata": {
  "kernelspec": {
   "display_name": "Python 3",
   "language": "python",
   "name": "python3"
  },
  "language_info": {
   "codemirror_mode": {
    "name": "ipython",
    "version": 3
   },
   "file_extension": ".py",
   "mimetype": "text/x-python",
   "name": "python",
   "nbconvert_exporter": "python",
   "pygments_lexer": "ipython3",
   "version": "3.8.0"
  },
  "orig_nbformat": 4
 },
 "nbformat": 4,
 "nbformat_minor": 2
}
