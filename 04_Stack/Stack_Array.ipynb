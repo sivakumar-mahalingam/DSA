{
 "cells": [
  {
   "attachments": {},
   "cell_type": "markdown",
   "metadata": {},
   "source": [
    "# Stack using array"
   ]
  },
  {
   "cell_type": "code",
   "execution_count": 3,
   "metadata": {},
   "outputs": [],
   "source": [
    "class Stack:\n",
    "    def __init__(self):\n",
    "        self.stack = []\n",
    "        \n",
    "    def __len__(self):\n",
    "        return len(self.stack)\n",
    "      \n",
    "    def __str__(self):\n",
    "        out = ''\n",
    "        if self.isEmpty():\n",
    "            print(\"stack is empty\")\n",
    "            return\n",
    "        for i in self.stack:\n",
    "            out += i + '->'\n",
    "        return out[:-2]\n",
    "\n",
    "    def isEmpty(self):\n",
    "        return len(self.stack) == 0\n",
    "\n",
    "    def push(self, data):\n",
    "        self.stack.append(data)\n",
    "        print(\"pushed data: \" + str(data))\n",
    "\n",
    "    def pop(self):\n",
    "        if self.isEmpty():\n",
    "            print(\"stack is empty\")\n",
    "            return None\n",
    "\n",
    "        data = self.stack.pop()\n",
    "        print(\"popped data: \" + str(data))\n",
    "\n",
    "    def peek(self):\n",
    "        if self.isEmpty():\n",
    "            print(\"stack is empty\")\n",
    "            return None\n",
    "\n",
    "        print(\"top element: \" + self.stack[-1])"
   ]
  },
  {
   "cell_type": "code",
   "execution_count": 4,
   "metadata": {},
   "outputs": [
    {
     "name": "stdout",
     "output_type": "stream",
     "text": [
      "pushed data: 1\n",
      "pushed data: 2\n",
      "Stack:1->2\n",
      "popped data: 2\n",
      "top element: 1\n",
      "Size of stack: 1\n",
      "Stack:1\n"
     ]
    }
   ],
   "source": [
    "stack = Stack()\n",
    "\n",
    "stack.push(str(1))\n",
    "stack.push(str(2))\n",
    "print(\"Stack:\" + str(stack))\n",
    "stack.pop()\n",
    "\n",
    "stack.peek()\n",
    "\n",
    "print(\"Size of stack: \" + str(len(stack)))\n",
    "\n",
    "print(\"Stack:\" + str(stack))"
   ]
  }
 ],
 "metadata": {
  "kernelspec": {
   "display_name": "Python 3",
   "language": "python",
   "name": "python3"
  },
  "language_info": {
   "codemirror_mode": {
    "name": "ipython",
    "version": 3
   },
   "file_extension": ".py",
   "mimetype": "text/x-python",
   "name": "python",
   "nbconvert_exporter": "python",
   "pygments_lexer": "ipython3",
   "version": "3.8.0"
  },
  "orig_nbformat": 4
 },
 "nbformat": 4,
 "nbformat_minor": 2
}
