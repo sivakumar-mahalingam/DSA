{
 "cells": [
  {
   "attachments": {},
   "cell_type": "markdown",
   "metadata": {},
   "source": [
    "# Stack using linked list"
   ]
  },
  {
   "cell_type": "code",
   "execution_count": null,
   "metadata": {},
   "outputs": [],
   "source": [
    "class Node:\n",
    "    def __init__(self, data):\n",
    "        self.data = data\n",
    "        self.next = None\n",
    "\n",
    "class Stack:\n",
    "    def __init__(self):\n",
    "        self.head = None\n",
    "        \n",
    "    def __str__(self):\n",
    "        temp = self.head\n",
    "        out = ''\n",
    "        while temp:\n",
    "            out += str(temp.data) + '->'\n",
    "            temp = temp.next\n",
    "        return out[:-2]\n",
    "        \n",
    "    def __len__(self):\n",
    "        count = 0\n",
    "        node = self.head\n",
    "        while node:\n",
    "            node = node.next\n",
    "            count += 1\n",
    "\n",
    "        return count\n",
    "\n",
    "    def isEmpty(self):\n",
    "        if self.head is None:\n",
    "            return True\n",
    "        else:\n",
    "            return False\n",
    "\n",
    "    def push(self, data):\n",
    "        new_node = Node(data)\n",
    "        new_node.next = self.head\n",
    "        self.head = new_node\n",
    "        print(\"pushed data: \" + str(data))\n",
    "\n",
    "    def pop(self):\n",
    "        if self.isEmpty():\n",
    "            print(\"stack is empty\")\n",
    "            return None\n",
    "\n",
    "        popped_node = self.head\n",
    "        self.head = self.head.next\n",
    "        popped_node.next = None\n",
    "        print(\"popped data: \" + str(popped_node.data))\n",
    "        return popped_node.data\n",
    "\n",
    "    def peek(self):\n",
    "        if self.isEmpty():\n",
    "            print(\"stack is empty\")\n",
    "            return None\n",
    "        print(\"top element: \" + str(self.head.data))"
   ]
  },
  {
   "cell_type": "code",
   "execution_count": null,
   "metadata": {},
   "outputs": [],
   "source": [
    "stack = Stack()\n",
    "\n",
    "stack.push(11)\n",
    "stack.push(22)\n",
    "stack.push(33)\n",
    "stack.push(44)\n",
    "print(\"Stack:\" + str(stack))\n",
    "stack.pop()\n",
    "print(\"Stack:\" + str(stack))\n",
    "stack.peek()\n",
    "print(\"Size of stack: \" + str(len(stack)))"
   ]
  }
 ],
 "metadata": {
  "language_info": {
   "name": "python"
  },
  "orig_nbformat": 4
 },
 "nbformat": 4,
 "nbformat_minor": 2
}
