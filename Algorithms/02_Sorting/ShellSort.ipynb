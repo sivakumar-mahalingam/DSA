{
 "cells": [
  {
   "cell_type": "markdown",
   "metadata": {},
   "source": [
    "# Shell Sort aka n-Gap Insertion Sort\n",
    "\n",
    "**Time Complexity:** O(n(log n)<sup>2</sup>)\n",
    "\n",
    "**Auxiliary Space:** O(1)"
   ]
  },
  {
   "cell_type": "code",
   "execution_count": null,
   "metadata": {},
   "outputs": [],
   "source": [
    "def ShellSort(arr):\n",
    "    n = len(arr)\n",
    "    gap = n//2\n",
    "\n",
    "    while gap > 0:\n",
    "        for i in range(gap, n):\n",
    "            temp = arr[i]\n",
    "            j = i\n",
    "            while j >= gap and arr[j-gap] > temp:\n",
    "                arr[j] = arr[j-gap]\n",
    "                j -= gap\n",
    "            arr[j] = temp\n",
    "        gap //= 2\n",
    "    \n",
    "    return arr"
   ]
  },
  {
   "cell_type": "code",
   "execution_count": null,
   "metadata": {},
   "outputs": [],
   "source": [
    "data = [9,8,3,7,5,6,4,1]\n",
    "\n",
    "data = ShellSort(data)\n",
    "\n",
    "print('Sorted Array in Ascending Order:')\n",
    "print(data)"
   ]
  }
 ],
 "metadata": {
  "language_info": {
   "name": "python"
  }
 },
 "nbformat": 4,
 "nbformat_minor": 2
}
