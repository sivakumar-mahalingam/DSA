{
 "cells": [
  {
   "cell_type": "markdown",
   "id": "2d8f6c16",
   "metadata": {},
   "source": [
    "# Merge Sort\n",
    "\n",
    "Time Complexity: O(n*log(n))\n",
    "\n",
    "Auxiliary Space: O(n)"
   ]
  },
  {
   "cell_type": "code",
   "execution_count": 1,
   "id": "0ac2350e",
   "metadata": {},
   "outputs": [],
   "source": [
    "def merge_sort(array):\n",
    "    if len(array) > 1:\n",
    "\n",
    "        r = len(array)//2\n",
    "        L = array[:r]\n",
    "        M = array[r:]\n",
    "\n",
    "        L = merge_sort(L)\n",
    "        M = merge_sort(M)\n",
    "\n",
    "        i = j = k = 0\n",
    "\n",
    "        while i < len(L) and j < len(M):\n",
    "            if L[i] < M[j]:\n",
    "                array[k] = L[i]\n",
    "                i += 1\n",
    "            else:\n",
    "                array[k] = M[j]\n",
    "                j += 1\n",
    "            k += 1\n",
    "\n",
    "        while i < len(L):\n",
    "            array[k] = L[i]\n",
    "            i += 1\n",
    "            k += 1\n",
    "\n",
    "        while j < len(M):\n",
    "            array[k] = M[j]\n",
    "            j += 1\n",
    "            k += 1\n",
    "\n",
    "    return array"
   ]
  },
  {
   "cell_type": "code",
   "execution_count": 2,
   "id": "21677c96",
   "metadata": {},
   "outputs": [
    {
     "name": "stdout",
     "output_type": "stream",
     "text": [
      "Sorted array is: \n",
      "[1, 2, 5, 6, 9, 10, 12]\n"
     ]
    }
   ],
   "source": [
    "data = [6, 5, 12, 10, 9, 1, 2]\n",
    "\n",
    "data = merge_sort(data)\n",
    "\n",
    "print(\"Sorted array is: \")\n",
    "print(data)"
   ]
  }
 ],
 "metadata": {
  "kernelspec": {
   "display_name": "Python 3 (ipykernel)",
   "language": "python",
   "name": "python3"
  },
  "language_info": {
   "codemirror_mode": {
    "name": "ipython",
    "version": 3
   },
   "file_extension": ".py",
   "mimetype": "text/x-python",
   "name": "python",
   "nbconvert_exporter": "python",
   "pygments_lexer": "ipython3",
   "version": "3.8.0"
  }
 },
 "nbformat": 4,
 "nbformat_minor": 5
}
