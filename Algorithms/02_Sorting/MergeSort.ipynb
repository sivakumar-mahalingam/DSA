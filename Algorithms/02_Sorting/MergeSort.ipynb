{
 "cells": [
  {
   "cell_type": "markdown",
   "id": "2d8f6c16",
   "metadata": {},
   "source": [
    "# Merge Sort\n",
    "\n",
    "**Time Complexity:** O(n log n)\n",
    "\n",
    "**Auxiliary Space:** O(n)"
   ]
  },
  {
   "cell_type": "code",
   "execution_count": 3,
   "id": "0ac2350e",
   "metadata": {},
   "outputs": [],
   "source": [
    "def MergeSort(arr):\n",
    "    if len(arr) > 1:\n",
    "\n",
    "        mid = len(arr)//2\n",
    "        left_half = arr[:mid]\n",
    "        right_half = arr[mid:]\n",
    "\n",
    "        left_half = MergeSort(left_half)\n",
    "        right_half = MergeSort(right_half)\n",
    "\n",
    "        i = j = k = 0\n",
    "\n",
    "        while i < len(left_half) and j < len(right_half):\n",
    "            if left_half[i] < right_half[j]:\n",
    "                arr[k] = left_half[i]\n",
    "                i += 1\n",
    "            else:\n",
    "                arr[k] = right_half[j]\n",
    "                j += 1\n",
    "            k += 1\n",
    "\n",
    "        while i < len(left_half):\n",
    "            arr[k] = left_half[i]\n",
    "            i += 1\n",
    "            k += 1\n",
    "\n",
    "        while j < len(right_half):\n",
    "            arr[k] = right_half[j]\n",
    "            j += 1\n",
    "            k += 1\n",
    "\n",
    "    return arr"
   ]
  },
  {
   "cell_type": "code",
   "execution_count": 4,
   "id": "21677c96",
   "metadata": {},
   "outputs": [
    {
     "name": "stdout",
     "output_type": "stream",
     "text": [
      "Sorted array is: \n",
      "[1, 2, 5, 6, 9, 10, 12]\n"
     ]
    }
   ],
   "source": [
    "data = [6, 5, 12, 10, 9, 1, 2]\n",
    "\n",
    "data = MergeSort(data)\n",
    "\n",
    "print(\"Sorted array is: \")\n",
    "print(data)"
   ]
  }
 ],
 "metadata": {
  "kernelspec": {
   "display_name": "Python 3 (ipykernel)",
   "language": "python",
   "name": "python3"
  },
  "language_info": {
   "codemirror_mode": {
    "name": "ipython",
    "version": 3
   },
   "file_extension": ".py",
   "mimetype": "text/x-python",
   "name": "python",
   "nbconvert_exporter": "python",
   "pygments_lexer": "ipython3",
   "version": "3.8.0"
  }
 },
 "nbformat": 4,
 "nbformat_minor": 5
}
