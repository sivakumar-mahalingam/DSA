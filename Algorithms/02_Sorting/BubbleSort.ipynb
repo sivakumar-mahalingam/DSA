{
 "cells": [
  {
   "cell_type": "markdown",
   "id": "f33b179c",
   "metadata": {},
   "source": [
    "# Bubble Sort\n",
    "\n",
    "Time Complexity:  O(n2)\n",
    "\n",
    "Auxiliary Space: O(1)"
   ]
  },
  {
   "cell_type": "code",
   "execution_count": 5,
   "id": "efa035b4",
   "metadata": {},
   "outputs": [],
   "source": [
    "def BubbleSort(arr):\n",
    "    for i in range(len(arr)):\n",
    "        for j in range(0, len(arr) - i - 1):\n",
    "            if arr[j] > arr[j + 1]:\n",
    "                arr[j], arr[j + 1] = arr[j + 1], arr[j]\n",
    "    \n",
    "    return arr"
   ]
  },
  {
   "cell_type": "code",
   "execution_count": 6,
   "id": "80899d52",
   "metadata": {},
   "outputs": [
    {
     "name": "stdout",
     "output_type": "stream",
     "text": [
      "Sorted Array in Ascending Order:\n",
      "[-9, -2, 0, 11, 45]\n"
     ]
    }
   ],
   "source": [
    "data = [-2, 45, 0, 11, -9]\n",
    "\n",
    "data = BubbleSort(data)\n",
    "\n",
    "print('Sorted Array in Ascending Order:')\n",
    "print(data)"
   ]
  },
  {
   "cell_type": "markdown",
   "metadata": {},
   "source": [
    "Algorithm takes O(n2) (even in best case). We can improve it by using one extra nag. No more swaps indicate the completion of sorling. If lhe list is already sorted, we can use this flag to skip the remaining passes. So the algorithm will take O(n)."
   ]
  },
  {
   "cell_type": "code",
   "execution_count": 7,
   "metadata": {},
   "outputs": [],
   "source": [
    "def BubbleSort(array):\n",
    "    swapped = 1\n",
    "    for i in range(len(array)):\n",
    "        if swapped == 0:\n",
    "            return\n",
    "        for j in range(0, len(array) - i - 1):\n",
    "            if array[j] > array[j + 1]:\n",
    "                array[j], array[j + 1] = array[j + 1], array[j]\n",
    "                swapped = 1\n",
    "    \n",
    "    return array"
   ]
  }
 ],
 "metadata": {
  "kernelspec": {
   "display_name": "Python 3 (ipykernel)",
   "language": "python",
   "name": "python3"
  },
  "language_info": {
   "codemirror_mode": {
    "name": "ipython",
    "version": 3
   },
   "file_extension": ".py",
   "mimetype": "text/x-python",
   "name": "python",
   "nbconvert_exporter": "python",
   "pygments_lexer": "ipython3",
   "version": "3.8.0"
  }
 },
 "nbformat": 4,
 "nbformat_minor": 5
}
