{
 "cells": [
  {
   "cell_type": "markdown",
   "metadata": {
    "application/vnd.databricks.v1+cell": {
     "cellMetadata": {},
     "inputWidgets": {},
     "nuid": "59fe9f26-2b84-48c3-962d-280d1872eb2d",
     "showTitle": false,
     "title": ""
    }
   },
   "source": [
    "# Heap Sort\n",
    "\n",
    "Time Complexity: O(nlogn)\n",
    "\n",
    "Auxiliary Space: O(1)"
   ]
  },
  {
   "cell_type": "code",
   "execution_count": 0,
   "metadata": {
    "application/vnd.databricks.v1+cell": {
     "cellMetadata": {
      "byteLimit": 2048000,
      "rowLimit": 10000
     },
     "inputWidgets": {},
     "nuid": "d24c0674-99a3-4f93-8b57-0aa180c8e517",
     "showTitle": false,
     "title": ""
    }
   },
   "outputs": [],
   "source": [
    "def heapify(arr, n, i):\n",
    "    #Find largest among root and children\n",
    "    largest = i \n",
    "    left_child = 2 * i + 1\n",
    "    right_child = 2 * i + 2\n",
    "\n",
    "    if left_child < n and arr[i] < arr[left_child]:\n",
    "        largest = left_child\n",
    "    \n",
    "    if right_child < n and arr[largest] < arr[right_child]:\n",
    "        largest = right_child\n",
    "      \n",
    "    # If root is not largest, swap with largest and continue heapifying\n",
    "    if largest != i:\n",
    "        arr[i], arr[largest] = arr[largest], arr[i]\n",
    "        heapify(arr, n, largest)\n",
    "\n",
    "\n",
    "def HeapSort(arr):\n",
    "    n = len(arr)\n",
    "\n",
    "    # Build max heap\n",
    "    for i in range(n //2, -1, -1):\n",
    "        heapify(arr, n, i)\n",
    "\n",
    "    for i in range(n - 1, 0, -1):\n",
    "        arr[i], arr[0] = arr[0], arr[i]\n",
    "\n",
    "        # Heapify root element\n",
    "        heapify(arr, i, 0)\n",
    "    \n",
    "    return arr"
   ]
  },
  {
   "cell_type": "code",
   "execution_count": 0,
   "metadata": {
    "application/vnd.databricks.v1+cell": {
     "cellMetadata": {
      "byteLimit": 2048000,
      "rowLimit": 10000
     },
     "inputWidgets": {},
     "nuid": "d1a114d5-202b-4422-bc36-28e6b1e843cb",
     "showTitle": false,
     "title": ""
    }
   },
   "outputs": [
    {
     "output_type": "stream",
     "name": "stdout",
     "output_type": "stream",
     "text": [
      "Sorted array is\n[1, 5, 6, 9, 10, 12]\n"
     ]
    }
   ],
   "source": [
    "data = [1, 12, 9, 5, 6, 10]\n",
    "n = len(data)\n",
    "\n",
    "data = HeapSort(data)\n",
    "\n",
    "print(\"Sorted array is\")\n",
    "print(data)"
   ]
  }
 ],
 "metadata": {
  "application/vnd.databricks.v1+notebook": {
   "dashboards": [],
   "language": "python",
   "notebookMetadata": {
    "pythonIndentUnit": 2
   },
   "notebookName": "HeapSort",
   "widgets": {}
  }
 },
 "nbformat": 4,
 "nbformat_minor": 0
}
