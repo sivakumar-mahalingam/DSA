{
 "cells": [
  {
   "cell_type": "markdown",
   "id": "ea8e2b42",
   "metadata": {},
   "source": [
    "# Insertion Sort\n",
    "\n",
    "**Time Complexity:** O(n<sup>2</sup>)\n",
    "\n",
    "**Auxiliary Space:** O(1)"
   ]
  },
  {
   "cell_type": "code",
   "execution_count": 1,
   "id": "74a8b5bb",
   "metadata": {},
   "outputs": [],
   "source": [
    "def InsertionSort(arr):\n",
    "    for i in range(1, len(arr)):\n",
    "        key = arr[i]\n",
    "        j = i - 1\n",
    "\n",
    "        while j >= 0 and key < arr[j]:\n",
    "            arr[j + 1] = arr[j]\n",
    "            j = j - 1\n",
    "\n",
    "        arr[j + 1] = key\n",
    "\n",
    "    return arr"
   ]
  },
  {
   "cell_type": "code",
   "execution_count": 2,
   "id": "71ebe597",
   "metadata": {},
   "outputs": [
    {
     "name": "stdout",
     "output_type": "stream",
     "text": [
      "Sorted Array in Ascending Order:\n",
      "[1, 3, 4, 5, 9]\n"
     ]
    }
   ],
   "source": [
    "data = [9, 5, 1, 4, 3]\n",
    "\n",
    "data = InsertionSort(data)\n",
    "\n",
    "print('Sorted Array in Ascending Order:')\n",
    "print(data)"
   ]
  }
 ],
 "metadata": {
  "kernelspec": {
   "display_name": "Python 3 (ipykernel)",
   "language": "python",
   "name": "python3"
  },
  "language_info": {
   "codemirror_mode": {
    "name": "ipython",
    "version": 3
   },
   "file_extension": ".py",
   "mimetype": "text/x-python",
   "name": "python",
   "nbconvert_exporter": "python",
   "pygments_lexer": "ipython3",
   "version": "3.8.0"
  }
 },
 "nbformat": 4,
 "nbformat_minor": 5
}
