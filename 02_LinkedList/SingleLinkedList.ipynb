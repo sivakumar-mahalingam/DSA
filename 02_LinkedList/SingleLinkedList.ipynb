{
 "cells": [
  {
   "attachments": {},
   "cell_type": "markdown",
   "metadata": {},
   "source": [
    "# Single Linked List"
   ]
  },
  {
   "cell_type": "code",
   "execution_count": 3,
   "metadata": {},
   "outputs": [],
   "source": [
    "# Single Linked List\n",
    "class Node:\n",
    "    def __init__(self, data):\n",
    "        self.data = data\n",
    "        self.next = None\n",
    "\n",
    "\n",
    "class LinkedList:\n",
    "    def __init__(self):\n",
    "        self.head = None\n",
    "\n",
    "    def __str__(self):\n",
    "        temp_node = self.head\n",
    "        out = ''\n",
    "\n",
    "        if temp_node is None:\n",
    "            out = \"List is empty\"\n",
    "            return\n",
    "          \n",
    "        while temp_node:\n",
    "            out += str(temp_node.data) + '->'\n",
    "            temp_node = temp_node.next\n",
    "        return out[:-2]\n",
    "\n",
    "    def __len__(self):\n",
    "        count = 0\n",
    "        temp_node = self.head\n",
    "        while temp_node:\n",
    "            temp_node = temp_node.next\n",
    "            count += 1\n",
    "\n",
    "        return count\n",
    "\n",
    "    def insertAfter(self, prev_data, new_data):\n",
    "        temp_node = self.head\n",
    "        while temp_node.next:\n",
    "            if temp_node.data == prev_data:\n",
    "                new_node = Node(new_data)\n",
    "                new_node.next = temp_node.next\n",
    "                temp_node.next = new_node\n",
    "                return\n",
    "            temp_node = temp_node.next\n",
    "\n",
    "        print(\"The given previous node is not found in LinkedList.\")\n",
    "\n",
    "    def addNode(self, data):\n",
    "        new_node = Node(data)\n",
    "\n",
    "        if self.head is None:\n",
    "            self.head = new_node\n",
    "            return\n",
    "\n",
    "        temp_node = self.head\n",
    "        while temp_node.next:\n",
    "            temp_node = temp_node.next\n",
    "        temp_node.next = new_node\n",
    "\n",
    "    def deleteNode(self, data):\n",
    "        temp_node = self.head\n",
    "        \n",
    "        if temp_node is None:\n",
    "            print(\"List is empty\")\n",
    "            return\n",
    "\n",
    "        if temp_node.data == data:\n",
    "            self.head = temp_node.next\n",
    "            return\n",
    "\n",
    "        while temp_node:\n",
    "            if temp_node.data == data:\n",
    "                prev.next = temp_node.next\n",
    "                return\n",
    "            prev = temp_node\n",
    "            temp_node = temp_node.next"
   ]
  },
  {
   "cell_type": "code",
   "execution_count": 4,
   "metadata": {},
   "outputs": [
    {
     "name": "stdout",
     "output_type": "stream",
     "text": [
      "LL: 1->2->3\n",
      "LL: 1->2->2.5->3\n",
      "LL: 1->2.5->3\n",
      "Length of LL: 3\n"
     ]
    }
   ],
   "source": [
    "ll = LinkedList()\n",
    "\n",
    "ll.addNode(1)\n",
    "ll.addNode(2)\n",
    "ll.addNode(3)\n",
    "\n",
    "print(\"LL: \" + str(ll))\n",
    "\n",
    "ll.insertAfter(2, 2.5)\n",
    "\n",
    "print(\"LL: \" + str(ll))\n",
    "\n",
    "ll.deleteNode(2)\n",
    "\n",
    "print(\"LL: \" + str(ll))\n",
    "\n",
    "print(\"Length of LL: \" + str(len(ll)))"
   ]
  }
 ],
 "metadata": {
  "kernelspec": {
   "display_name": "Python 3",
   "language": "python",
   "name": "python3"
  },
  "language_info": {
   "codemirror_mode": {
    "name": "ipython",
    "version": 3
   },
   "file_extension": ".py",
   "mimetype": "text/x-python",
   "name": "python",
   "nbconvert_exporter": "python",
   "pygments_lexer": "ipython3",
   "version": "3.8.0"
  },
  "orig_nbformat": 4
 },
 "nbformat": 4,
 "nbformat_minor": 2
}
