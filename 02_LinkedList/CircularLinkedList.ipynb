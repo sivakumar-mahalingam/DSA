{
 "cells": [
  {
   "attachments": {},
   "cell_type": "markdown",
   "metadata": {},
   "source": [
    "# Circular Linked List"
   ]
  },
  {
   "cell_type": "code",
   "execution_count": 1,
   "metadata": {},
   "outputs": [],
   "source": [
    "class Node:\n",
    "    def __init__(self, my_data):\n",
    "        self.data = my_data\n",
    "        self.next = None\n",
    "\n",
    "\n",
    "class CircularLinkedList:\n",
    "    def __init__(self):\n",
    "        self.head = None\n",
    "\n",
    "    def __str__(self):\n",
    "        temp_node = self.head\n",
    "        out = ''\n",
    "\n",
    "        if temp_node is None:\n",
    "            out = \"List is empty\"\n",
    "            return\n",
    "        elif temp_node is not None:\n",
    "            while True:\n",
    "                out += str(temp_node.data) + '->'\n",
    "                temp_node = temp_node.next\n",
    "                if temp_node == self.head:\n",
    "                    return out[:-2]\n",
    "\n",
    "    def __len__(self):\n",
    "        if self.head is None:\n",
    "            return 0\n",
    "\n",
    "        count = 0\n",
    "        temp = self.head\n",
    "        while True:\n",
    "            count += 1\n",
    "            temp = temp.next\n",
    "            if temp == self.head:\n",
    "                break\n",
    "        return count\n",
    "\n",
    "    def addNode(self, data):\n",
    "        new_node = Node(data)\n",
    "\n",
    "        if self.head is None:\n",
    "            self.head = new_node\n",
    "            new_node.next = self.head\n",
    "        else:\n",
    "            temp_node = self.head\n",
    "            while temp_node.next != self.head:\n",
    "                temp_node = temp_node.next\n",
    "            temp_node.next = new_node\n",
    "            new_node.next = self.head\n",
    "\n",
    "    def deleteNode(self, data):\n",
    "        temp_node = self.head\n",
    "\n",
    "        if temp_node is None:\n",
    "            print(\"List is empty\")\n",
    "            return\n",
    "\n",
    "        if temp_node.data == data:\n",
    "            while temp_node.next != self.head:\n",
    "                temp_node = temp_node.next\n",
    "            temp_node.next = self.head.next\n",
    "            self.head = self.head.next\n",
    "        else:\n",
    "            while temp_node.next != self.head:\n",
    "                prev = temp_node\n",
    "                temp_node = temp_node.next\n",
    "                if temp_node.data == data:\n",
    "                    prev.next = temp_node.next\n",
    "                    temp_node = temp_node.next"
   ]
  },
  {
   "cell_type": "code",
   "execution_count": 2,
   "metadata": {},
   "outputs": [
    {
     "name": "stdout",
     "output_type": "stream",
     "text": [
      "CLL: 1->2->3->4\n",
      "CLL: 1->2->4\n",
      "Length of CLL: 3\n"
     ]
    }
   ],
   "source": [
    "cll = CircularLinkedList()\n",
    "\n",
    "cll.addNode(1)\n",
    "cll.addNode(2)\n",
    "cll.addNode(3)\n",
    "cll.addNode(4)\n",
    "print(\"CLL: \" + str(cll))\n",
    "\n",
    "cll.deleteNode(3)\n",
    "print(\"CLL: \" + str(cll))\n",
    "\n",
    "print(\"Length of CLL: \" + str(len(cll)))"
   ]
  }
 ],
 "metadata": {
  "kernelspec": {
   "display_name": "Python 3",
   "language": "python",
   "name": "python3"
  },
  "language_info": {
   "codemirror_mode": {
    "name": "ipython",
    "version": 3
   },
   "file_extension": ".py",
   "mimetype": "text/x-python",
   "name": "python",
   "nbconvert_exporter": "python",
   "pygments_lexer": "ipython3",
   "version": "3.8.0"
  },
  "orig_nbformat": 4
 },
 "nbformat": 4,
 "nbformat_minor": 2
}
